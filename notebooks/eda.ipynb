{
  "cells": [
    {
      "cell_type": "markdown",
      "id": "31439f51",
      "metadata": {},
      "source": [
        "# EDA for the RF dataset"
      ]
    },
    {
      "cell_type": "code",
      "execution_count": 1,
      "id": "be3c430f",
      "metadata": {},
      "outputs": [
        {
          "name": "stdout",
          "output_type": "stream",
          "text": [
            "/home/nishaq/Documents/research/rf-metric/notebooks\n"
          ]
        }
      ],
      "source": [
        "!pwd"
      ]
    }
  ],
  "metadata": {
    "kernelspec": {
      "display_name": "rf-metric",
      "language": "python",
      "name": "python3"
    },
    "language_info": {
      "codemirror_mode": {
        "name": "ipython",
        "version": 3
      },
      "file_extension": ".py",
      "mimetype": "text/x-python",
      "name": "python",
      "nbconvert_exporter": "python",
      "pygments_lexer": "ipython3",
      "version": "3.13.5"
    }
  },
  "nbformat": 4,
  "nbformat_minor": 5
}
