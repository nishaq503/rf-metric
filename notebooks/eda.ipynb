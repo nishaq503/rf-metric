{
  "cells": [
    {
      "cell_type": "markdown",
      "id": "31439f51",
      "metadata": {},
      "source": [
        "# EDA for the RF dataset"
      ]
    },
    {
      "cell_type": "code",
      "execution_count": 1,
      "id": "be3c430f",
      "metadata": {},
      "outputs": [
        {
          "name": "stdout",
          "output_type": "stream",
          "text": [
            "Using data directory: /home/nishaq/Documents/research/data/rf-data\n"
          ]
        }
      ],
      "source": [
        "import rf_metric\n",
        "\n",
        "data_dir = rf_metric.utils.config[\"RF_DATA_DIR\"]\n",
        "print(f\"Using data directory: {data_dir}\")"
      ]
    },
    {
      "cell_type": "code",
      "execution_count": 2,
      "id": "eb68583b",
      "metadata": {},
      "outputs": [
        {
          "name": "stdout",
          "output_type": "stream",
          "text": [
            "Dataset shape for ModulationMode.ASK_4 at NoiseLevel.POS_20: (4096, 1024, 2)\n"
          ]
        }
      ],
      "source": [
        "import numpy\n",
        "\n",
        "mod_mode = rf_metric.data.ModulationMode.ASK_4  # type: ignore\n",
        "noise_level = rf_metric.data.NoiseLevel.POS_20  # type: ignore\n",
        "\n",
        "dataset = numpy.asarray(mod_mode.read(noise_level=noise_level))  # type: ignore\n",
        "print(f\"Dataset shape for {mod_mode} at {noise_level}: {dataset.shape}\")"
      ]
    }
  ],
  "metadata": {
    "kernelspec": {
      "display_name": "rf-metric",
      "language": "python",
      "name": "python3"
    },
    "language_info": {
      "codemirror_mode": {
        "name": "ipython",
        "version": 3
      },
      "file_extension": ".py",
      "mimetype": "text/x-python",
      "name": "python",
      "nbconvert_exporter": "python",
      "pygments_lexer": "ipython3",
      "version": "3.13.5"
    }
  },
  "nbformat": 4,
  "nbformat_minor": 5
}
